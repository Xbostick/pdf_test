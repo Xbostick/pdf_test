{
 "cells": [
  {
   "cell_type": "markdown",
   "metadata": {},
   "source": [
    "# Load 20 Newsgroups Dataset\n",
    "This cell fetches the training and test subsets of the 20 Newsgroups dataset for text classification."
   ]
  },
  {
   "cell_type": "code",
   "execution_count": 144,
   "metadata": {},
   "outputs": [],
   "source": [
    "from sklearn.datasets import fetch_20newsgroups\n",
    "\n",
    "# Fetch training and test datasets\n",
    "newsgroups_train = fetch_20newsgroups(subset='train')\n",
    "newsgroups_test = fetch_20newsgroups(subset='test')\n"
   ]
  },
  {
   "cell_type": "markdown",
   "metadata": {},
   "source": [
    "# Create or Load Preprocessor\n",
    "The preprocessor transforms raw text into TF-IDF features and applies PCA for dimensionality reduction.\n",
    "You can either create a new preprocessor or load an existing one."
   ]
  },
  {
   "cell_type": "code",
   "execution_count": 145,
   "metadata": {},
   "outputs": [
    {
     "name": "stdout",
     "output_type": "stream",
     "text": [
      "Start creating preprocessor. It would be saved to models\\Preprocessor_pretrained.pkl\n",
      "\n",
      "Start creating TfIdf tokenizer.\n",
      "\n",
      "Tokenizer already created. Loaded from models\\TfIdf_pretrained.pkl\n",
      "Start creating pca transformer with 500 components.\n",
      "\n",
      "PCA transformer already exists. Loaded from models\\pca_transformer.pkl\n"
     ]
    }
   ],
   "source": [
    "from text_helper import Preprocessor\n",
    "\n",
    "# Uncomment to create a new preprocessor (optional)\n",
    "# preprocessor = Preprocessor(newsgroups_train.data, force_create=True, n_components_pca=500)"
   ]
  },
  {
   "cell_type": "code",
   "execution_count": 141,
   "metadata": {},
   "outputs": [],
   "source": [
    "from text_helper import load_preprocessor\n",
    "\n",
    "# Load the pretrained preprocessor\n",
    "preprocessor = load_preprocessor()\n",
    "\n",
    "# Assert preprocessor is loaded\n",
    "assert preprocessor is not None, \"Failed to load preprocessor\""
   ]
  },
  {
   "cell_type": "markdown",
   "metadata": {},
   "source": [
    "# Preprocess Data\n",
    "Transform the training and test data using the preprocessor."
   ]
  },
  {
   "cell_type": "code",
   "execution_count": 103,
   "metadata": {},
   "outputs": [],
   "source": [
    "# Preprocess training and test data\n",
    "x_train = preprocessor.preprocess(newsgroups_train.data)\n",
    "x_test = preprocessor.preprocess(newsgroups_test.data)"
   ]
  },
  {
   "cell_type": "markdown",
   "metadata": {},
   "source": [
    "# Train CNN Model\n",
    "Train a convolutional neural network (CNN) model on the preprocessed data."
   ]
  },
  {
   "cell_type": "code",
   "execution_count": 134,
   "metadata": {},
   "outputs": [],
   "source": [
    "from dl_functions import train\n",
    "\n",
    "# Train CNN model with 10 epochs\n",
    "model = train(x_train, x_test, newsgroups_train.target, newsgroups_test.target, model_type=\"CNN\", epoch=10)"
   ]
  },
  {
   "cell_type": "markdown",
   "metadata": {},
   "source": [
    "# Train Logistic Regression Model\n",
    "Train a logistic regression model on the preprocessed data."
   ]
  },
  {
   "cell_type": "code",
   "execution_count": 137,
   "metadata": {},
   "outputs": [],
   "source": [
    "from dl_functions import train\n",
    "\n",
    "# Train logistic regression model\n",
    "model = train(x_train, x_test, newsgroups_train.target, newsgroups_test.target, model_type=\"LogReg\")"
   ]
  },
  {
   "cell_type": "markdown",
   "metadata": {},
   "source": [
    "# Predict on a Single Sample\n",
    "Use the trained model to predict the category of a test sample."
   ]
  },
  {
   "cell_type": "code",
   "execution_count": 140,
   "metadata": {},
   "outputs": [],
   "source": [
    "from dl_functions import predict\n",
    "\n",
    "# Preprocess a single test sample and predict its category\n",
    "sample = preprocessor.preprocess(newsgroups_test.data[0])\n",
    "prediction = predict(sample, model_type=\"Linear\")\n",
    "\n",
    "print(f\"Predicted class: {prediction}\")"
   ]
  },
  {
   "cell_type": "markdown",
   "metadata": {},
   "source": [
    "# Run Flask Server\n",
    "Start the Flask server to handle PDF uploads and predict their categories."
   ]
  },
  {
   "cell_type": "code",
   "execution_count": 143,
   "metadata": {},
   "outputs": [],
   "source": [
    "!python server.py"
   ]
  }
 ],
 "metadata": {
  "kernelspec": {
   "display_name": "test_pdf",
   "language": "python",
   "name": "python3"
  },
  "language_info": {
   "codemirror_mode": {
    "name": "ipython",
    "version": 3
   },
   "file_extension": ".py",
   "mimetype": "text/x-python",
   "name": "python",
   "nbconvert_exporter": "python",
   "pygments_lexer": "ipython3",
   "version": "3.12.4"
  }
 },
 "nbformat": 4,
 "nbformat_minor": 2
}
